{
 "cells": [
  {
   "cell_type": "markdown",
   "metadata": {},
   "source": [
    "## Gradient descent: Logistic Regression"
   ]
  },
  {
   "cell_type": "code",
   "execution_count": 2,
   "metadata": {
    "collapsed": true
   },
   "outputs": [],
   "source": [
    "import numpy as np\n",
    "import pandas as pd\n",
    "import matplotlib.pyplot as plt  "
   ]
  },
  {
   "cell_type": "code",
   "execution_count": 3,
   "metadata": {
    "collapsed": true
   },
   "outputs": [],
   "source": [
    "from sklearn.datasets import load_boston\n",
    "bdata = load_boston() # using the Boston Housing Prices Data Set\n",
    "EXPENSIVE = np.where(bdata.target > 40, 1.0, 0.0)"
   ]
  },
  {
   "cell_type": "markdown",
   "metadata": {},
   "source": [
    "Model Representation:\n",
    "$$h_\\theta(x) = g(\\theta^Tx)$$\n",
    "$$g(z) = \\frac{1}{1+e^{-z}}$$\n",
    "* $h_\\theta(x)$ will give us the probability that the output is 1\n",
    "\n",
    "Cost Function:\n",
    "$$-\\frac{1}{m}\\sum\\limits_{i=1}^m[y^{(i)}log(h_\\theta(x^{(i)})) + (1-y^{(i)})log(1-h_\\theta(x^{(i)}))]$$"
   ]
  },
  {
   "cell_type": "code",
   "execution_count": 11,
   "metadata": {
    "collapsed": true
   },
   "outputs": [],
   "source": [
    "\"\"\"\n",
    "Function\n",
    "--------\n",
    "multivariate_lgs\n",
    "    Gradient Descent to minimize cost function of logistic regression. \n",
    "    Used to find co-efficients of multivariate logistic regression.\n",
    "\n",
    "Parameters\n",
    "----------\n",
    "xvalue_matrix, yvalues : narray\n",
    "    xvalue_matrix: independent variable\n",
    "    yvalues: dependent variable\n",
    "    \n",
    "R: float\n",
    "    Learning rate\n",
    "    \n",
    "MaxIterations: Int\n",
    "    maximum number of iterations\n",
    "\n",
    "Returns\n",
    "-------\n",
    "alpha: float\n",
    "    intercept\n",
    "    \n",
    "beta: float\n",
    "    co-efficient\n",
    "\"\"\"\n",
    "def multivariate_lgs(xvalue_matrix, yvalues, R= 0.1, MaxIterations = 100000):\n",
    "    m = xvalue_matrix.shape[0] # number of rows\n",
    "    n = xvalue_matrix.shape[1] # number of columns\n",
    "    X_b = np.c_[np.ones((m,1)), xvalue_matrix]\n",
    "    theta = np.random.randn(n+1,1)\n",
    "    yhat = X_b.dot(theta)\n",
    "    pred = 1.0/(1.0 + np.exp(-yhat)) # prediction based on logistic distribution\n",
    "    error = -1/m*(np.dot(yvalues.T, np.log(pred))+np.dot((1-yvalues).T, np.log(1-pred))) # loss function\n",
    "    \n",
    "    for i in range(MaxIterations):\n",
    "        gradient =  2/m * X_b.T.dot(pred - yvalues)\n",
    "        theta = theta - R * gradient\n",
    "        yhat = X_b.dot(theta)\n",
    "        pred = 1.0/(1.0 + np.exp(-yhat))\n",
    "        new_error = -1/m*(np.dot(yvalues.T, np.log(pred))+np.dot((1-yvalues).T, np.log(1-pred)))\n",
    "        if abs(error-new_error)<1e-10:\n",
    "            print(\"Converged, iterations:%d\"%i)\n",
    "            break\n",
    "        else:\n",
    "            error = new_error\n",
    "    return theta"
   ]
  },
  {
   "cell_type": "code",
   "execution_count": 12,
   "metadata": {},
   "outputs": [
    {
     "name": "stdout",
     "output_type": "stream",
     "text": [
      "Converged, iterations:4268\n",
      "[[-4.57765253]\n",
      " [ 0.33377116]\n",
      " [ 2.16114743]]\n"
     ]
    }
   ],
   "source": [
    "from sklearn.preprocessing import StandardScaler\n",
    "X = bdata.data[:,[3,5]] # CHAS AND RM\n",
    "Y = EXPENSIVE.reshape(-1,1) \n",
    "theta = multivariate_lgs(StandardScaler().fit_transform(X),Y) # logistic regression fit\n",
    "print(theta)"
   ]
  },
  {
   "cell_type": "code",
   "execution_count": 13,
   "metadata": {},
   "outputs": [
    {
     "name": "stdout",
     "output_type": "stream",
     "text": [
      "[-4.58037959] [[ 0.33396565  2.1627009 ]]\n"
     ]
    }
   ],
   "source": [
    "from sklearn.linear_model import LogisticRegression\n",
    "lgr = LogisticRegression(C=1e10)\n",
    "lgr.fit(StandardScaler().fit_transform(X), Y.flatten())\n",
    "print(lgr.intercept_, lgr.coef_)"
   ]
  }
 ],
 "metadata": {
  "kernelspec": {
   "display_name": "Python 3",
   "language": "python",
   "name": "python3"
  },
  "language_info": {
   "codemirror_mode": {
    "name": "ipython",
    "version": 3
   },
   "file_extension": ".py",
   "mimetype": "text/x-python",
   "name": "python",
   "nbconvert_exporter": "python",
   "pygments_lexer": "ipython3",
   "version": "3.6.1"
  }
 },
 "nbformat": 4,
 "nbformat_minor": 2
}
